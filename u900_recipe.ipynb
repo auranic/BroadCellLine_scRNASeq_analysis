{
 "cells": [
  {
   "cell_type": "code",
   "execution_count": 3,
   "metadata": {},
   "outputs": [],
   "source": [
    "import pandas as pd\n",
    "import numpy as np\n",
    "import matplotlib.pyplot as plt\n",
    "import seaborn as sns\n",
    "import scvelo as sv\n",
    "import anndata\n",
    "import scanpy as sc\n",
    "from sklearn.neighbors import NearestNeighbors\n",
    "from sklearn.decomposition import PCA\n",
    "DATA_PATH = '/home/risitop/OneDrive/Documents/PHD/y1/data/'"
   ]
  },
  {
   "cell_type": "code",
   "execution_count": 14,
   "metadata": {},
   "outputs": [],
   "source": [
    "def get_nd_array(arr):\n",
    "    x = None\n",
    "    if str(type(arr)):\n",
    "        x = arr\n",
    "    else:\n",
    "        x = arr.toarray()\n",
    "    return x\n",
    "\n",
    "def smooth_matrix_by_pooling(matrix,indices):\n",
    "    matrix_pooled = matrix.copy()\n",
    "    for i in range(len(indices)):\n",
    "        matrix_pooled[i,:] = np.mean(matrix[indices[i],:],axis=0)\n",
    "    return matrix_pooled\n",
    "\n",
    "def smooth_adata_by_pooling(adata, X_embed, n_neighbors=10):\n",
    "    print('Smoothing data...')\n",
    "    adata_pooled = adata.copy()\n",
    "    nbrs = NearestNeighbors(n_neighbors=n_neighbors).fit(X_embed)\n",
    "    distances, indices = nbrs.kneighbors(X_embed)    \n",
    "    adata_pooled.X = smooth_matrix_by_pooling(get_nd_array(adata.X),indices)\n",
    "    if 'matrix' in adata.layers:\n",
    "        adata_pooled.layers['matrix'] = smooth_matrix_by_pooling(get_nd_array(adata.layers['matrix']),indices)\n",
    "    if 'spliced' in adata.layers:\n",
    "        adata_pooled.layers['spliced'] = smooth_matrix_by_pooling(get_nd_array(adata.layers['spliced']),indices)\n",
    "    if 'unspliced' in adata.layers:\n",
    "        adata_pooled.layers['unspliced'] = smooth_matrix_by_pooling(get_nd_array(adata.layers['unspliced']),indices)\n",
    "    return adata_pooled\n",
    "\n",
    "def preprocessing_without_pooling(adata, log_transform, normalize_totals, top_variable_genes, n_pcs):\n",
    "    adata = adata.copy()\n",
    "    if log_transform:\n",
    "        sc.pp.log1p(adata)\n",
    "    if normalize_totals:\n",
    "        sc.pp.normalize_total(adata, target_sum=10000)\n",
    "    if top_variable_genes > 0:\n",
    "        variances = np.var(adata.X, axis=0)\n",
    "        inds = np.flip(np.argsort(variances))\n",
    "        ind_genes = inds[0:top_variable_genes]\n",
    "        if 0 in variances[ind_genes]:\n",
    "            ind_first_zero = np.argwhere(variances[ind_genes] == 0)[0][0]\n",
    "            ind_genes = ind_genes[0:ind_first_zero]\n",
    "        adata = adata[:,ind_genes]\n",
    "    sc.tl.pca(adata, n_comps=n_pcs)\n",
    "    return adata\n",
    "\n",
    "def pooling_procedure(adata, adata_pp, n_neighbors=10, n_pcs=30):\n",
    "    if n_neighbors <= 0: return adata_pp\n",
    "    print('Pooling data...')\n",
    "    adata = adata.copy()\n",
    "    X_pca = adata_pp.obsm['X_pca']\n",
    "    adata = smooth_adata_by_pooling(adata, X_pca, n_neighbors=n_neighbors)\n",
    "    return adata\n",
    "\n",
    "def u900_recipe(adata, top_variable_genes=10000, normalize_totals=False, \n",
    "                log_transform=True, n_neighbors_pooling=10, n_pcs=30):\n",
    "\n",
    "    adata = adata.copy()\n",
    "    \n",
    "    # MT-counts cleaning\n",
    "    print('Filtering with mitochondria count...')\n",
    "    adata.var['mt'] = adata.var_names.str.startswith('MT-')\n",
    "    sc.pp.calculate_qc_metrics(adata, qc_vars=['mt'], percent_top=None, log1p=False, inplace=True)\n",
    "    \n",
    "    print('Preprocessing data...')\n",
    "    adata_pp = preprocessing_without_pooling(adata, log_transform, normalize_totals, top_variable_genes, n_pcs)\n",
    "    \n",
    "    # pooling\n",
    "    adata = pooling_procedure(adata, adata_pp, n_neighbors=n_neighbors_pooling, n_pcs=n_pcs)\n",
    "    adata = preprocessing_without_pooling(adata, log_transform, normalize_totals, top_variable_genes, n_pcs)\n",
    "        \n",
    "    return adata"
   ]
  },
  {
   "cell_type": "code",
   "execution_count": 16,
   "metadata": {},
   "outputs": [
    {
     "name": "stdout",
     "output_type": "stream",
     "text": [
      "Filtering with mitochondria count...\n",
      "Preprocessing data...\n",
      "Pooling data...\n",
      "Smoothing data...\n"
     ]
    },
    {
     "data": {
      "text/plain": [
       "AnnData object with n_obs × n_vars = 7102 × 10000\n",
       "    obs: 'CellLine', 'n_genes_by_counts', 'total_counts', 'total_counts_mt', 'pct_counts_mt'\n",
       "    var: 'mt', 'n_cells_by_counts', 'mean_counts', 'pct_dropout_by_counts', 'total_counts'\n",
       "    uns: 'log1p', 'pca'\n",
       "    obsm: 'X_pca'\n",
       "    varm: 'PCs'"
      ]
     },
     "execution_count": 16,
     "metadata": {},
     "output_type": "execute_result"
    }
   ],
   "source": [
    "adata = sc.read_h5ad(DATA_PATH + 'CCLE/Head_and_Neck_Cancer.h5ad')\n",
    "adata = u900_recipe(adata)\n",
    "adata"
   ]
  },
  {
   "cell_type": "code",
   "execution_count": 13,
   "metadata": {},
   "outputs": [
    {
     "name": "stdout",
     "output_type": "stream",
     "text": [
      "PREPROCESSING PARAMETERS:\n",
      "Already_Log_Transformed= False\n",
      "Normalize_Totals= False\n",
      "number_of_pcs= 30\n",
      "n_neighbours_for_pooling= 10\n",
      "top_variable_genes= 10000\n"
     ]
    },
    {
     "data": {
      "text/plain": [
       "AnnData object with n_obs × n_vars = 7102 × 10000\n",
       "    obs: 'CellLine', 'n_genes_by_counts', 'total_counts', 'total_counts_mt', 'pct_counts_mt'\n",
       "    var: 'mt', 'n_cells_by_counts', 'mean_counts', 'pct_dropout_by_counts', 'total_counts'\n",
       "    uns: 'log1p', 'pca'\n",
       "    obsm: 'X_pca'\n",
       "    varm: 'PCs'"
      ]
     },
     "metadata": {},
     "output_type": "display_data"
    }
   ],
   "source": [
    "adata.write(DATA_PATH + 'CCLE/Head_and_Neck_Cancer_pp.h5ad', compression='gzip')"
   ]
  },
  {
   "cell_type": "code",
   "execution_count": null,
   "metadata": {},
   "outputs": [],
   "source": []
  }
 ],
 "metadata": {
  "kernelspec": {
   "display_name": "Python 3",
   "language": "python",
   "name": "python3"
  },
  "language_info": {
   "codemirror_mode": {
    "name": "ipython",
    "version": 3
   },
   "file_extension": ".py",
   "mimetype": "text/x-python",
   "name": "python",
   "nbconvert_exporter": "python",
   "pygments_lexer": "ipython3",
   "version": "3.8.6"
  }
 },
 "nbformat": 4,
 "nbformat_minor": 4
}
