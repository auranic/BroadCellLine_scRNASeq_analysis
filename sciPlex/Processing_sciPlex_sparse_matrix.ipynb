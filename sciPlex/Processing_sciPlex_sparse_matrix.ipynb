{
 "cells": [
  {
   "cell_type": "code",
   "execution_count": 1,
   "metadata": {},
   "outputs": [],
   "source": [
    "import numpy as np\n",
    "import pandas as pd"
   ]
  },
  {
   "cell_type": "code",
   "execution_count": 4,
   "metadata": {},
   "outputs": [
    {
     "name": "stdout",
     "output_type": "stream",
     "text": [
      "Number of genes =  58347\n",
      "Number of samples =  98437\n",
      "Number of wells =  94\n",
      "Number of cell line names =  2 ['A549', 'MCF7']\n",
      "Number of drug combinations =  16 ['Chloride_DMSO', 'DMSO_Abexinostat', 'DMSO_DMSO', 'Citrate_Pracinostat', 'DMSO_Pracinostat', 'PDH.inhibitor_DMSO', 'ACSS2.inhibitor_Pracinostat', 'PDH.inhibitor_Pracinostat', 'ACLY.inhibitor_Pracinostat', 'Pyruvate_Pracinostat', 'Acetate_DMSO', 'ACLY.inhibitor_DMSO', 'Acetate_Pracinostat', 'ACSS2.inhibitor_DMSO', 'Citrate_DMSO', 'Pyruvate_DMSO']\n"
     ]
    }
   ],
   "source": [
    "# load annotations\n",
    "gene_names = []\n",
    "with open('/mnt/c/Datas/SingleCellTranscriptomics/sciPlex/GSM4150379_sciPlex4_A549_MCF7_HDACi_gene.annotations.txt') as f:\n",
    "    l = f.readline()[:-1]\n",
    "    while l:\n",
    "        gn = l.split('\\t')[1]\n",
    "        gene_names.append(gn)\n",
    "        l = f.readline()[:-1]\n",
    "print('Number of genes = ',len(gene_names))\n",
    "\n",
    "sample_names = []\n",
    "well_names = set()\n",
    "with open('/mnt/c/Datas/SingleCellTranscriptomics/sciPlex/GSM4150379_sciPlex4_A549_MCF7_HDACi_cell.annotations.txt') as f:\n",
    "    l = f.readline()[:-1]\n",
    "    while l:\n",
    "        sn = l.split('\\t')[0]\n",
    "        sample_names.append(sn)\n",
    "        parts = sn.split('_')\n",
    "        well_names.add(parts[0])\n",
    "        l = f.readline()[:-1]\n",
    "print('Number of samples = ',len(sample_names))\n",
    "well_names = list(well_names)\n",
    "print('Number of wells = ',len(well_names))\n",
    "\n",
    "drug_combinations = set()\n",
    "cell_line_names = set()\n",
    "drug_combinations_perwell = ['']*len(well_names)\n",
    "cell_line_names_perwell = ['']*len(well_names)\n",
    "\n",
    "\n",
    "with open('/mnt/c/Datas/SingleCellTranscriptomics/sciPlex/GSM4150379_sciPlex4_hashSampleSheet.txt') as f:\n",
    "    l = f.readline()[:-1]\n",
    "    while l:\n",
    "        hn = l.split(' ')[0]\n",
    "        parts = hn.split('_')\n",
    "        dc = parts[1]+\"_\"+parts[3]\n",
    "        cn = parts[4]\n",
    "        well = parts[6]\n",
    "        if len(well)==2:\n",
    "            well = well[0]+'0'+well[1]\n",
    "        if well in well_names:\n",
    "            drug_combinations.add(dc) \n",
    "            cell_line_names.add(cn)\n",
    "            i = well_names.index(well)\n",
    "            drug_combinations_perwell[i] = dc\n",
    "            cell_line_names_perwell[i] = cn\n",
    "        l = f.readline()[:-1]\n",
    "\n",
    "well_names_percell = []\n",
    "\n",
    "with open('/mnt/c/Datas/SingleCellTranscriptomics/sciPlex/GSM4150379_sciPlex4_A549_MCF7_HDACi_cell.annotations.txt') as f:\n",
    "    l = f.readline()[:-1]\n",
    "    while l:\n",
    "        sn = l.split('\\t')[0]\n",
    "        sample_names.append(sn)\n",
    "        parts = sn.split('_')\n",
    "        well_names_percell.append(parts[0])\n",
    "        l = f.readline()[:-1]\n",
    "\n",
    "\n",
    "print('Number of cell line names = ',len(cell_line_names),list(cell_line_names))\n",
    "print('Number of drug combinations = ',len(drug_combinations),list(drug_combinations))"
   ]
  },
  {
   "cell_type": "code",
   "execution_count": 8,
   "metadata": {},
   "outputs": [
    {
     "name": "stdout",
     "output_type": "stream",
     "text": [
      "['A549', 'A549', 'A549', 'A549', 'A549', 'A549', 'A549', 'A549', 'A549', 'A549', 'A549', 'A549', 'A549', 'A549', 'A549', 'A549', 'A549', 'A549', 'A549', 'A549', 'A549', 'A549', 'A549', 'A549', 'A549', 'A549', 'A549', 'A549', 'A549', 'A549', 'A549', 'A549', 'A549', 'A549', 'A549', 'A549', 'A549', 'A549', 'A549', 'A549', 'A549', 'A549', 'A549', 'A549', 'A549', 'A549', 'A549', 'A549', 'A549', 'A549', 'A549', 'A549', 'A549', 'A549', 'A549', 'A549', 'A549', 'A549', 'A549', 'A549', 'A549', 'A549', 'A549', 'A549', 'A549', 'A549', 'A549', 'A549', 'A549', 'A549', 'A549', 'A549', 'A549', 'A549', 'A549', 'A549', 'A549', 'A549', 'A549', 'A549', 'A549', 'A549', 'A549', 'A549', 'A549', 'A549', 'A549', 'A549', 'A549', 'A549', 'A549', 'A549', 'A549', 'A549']\n",
      "['ACLY.inhibitor_Pracinostat', 'PDH.inhibitor_Pracinostat', 'ACSS2.inhibitor_Pracinostat', 'PDH.inhibitor_Pracinostat', 'ACLY.inhibitor_DMSO', 'PDH.inhibitor_Pracinostat', 'ACLY.inhibitor_DMSO', 'ACLY.inhibitor_Pracinostat', 'PDH.inhibitor_Pracinostat', 'ACLY.inhibitor_DMSO', 'ACLY.inhibitor_DMSO', 'ACLY.inhibitor_Pracinostat', 'ACSS2.inhibitor_Pracinostat', 'ACSS2.inhibitor_Pracinostat', 'ACLY.inhibitor_DMSO', 'ACSS2.inhibitor_Pracinostat', 'PDH.inhibitor_Pracinostat', 'ACLY.inhibitor_DMSO', 'ACSS2.inhibitor_Pracinostat', 'ACLY.inhibitor_Pracinostat', 'ACSS2.inhibitor_Pracinostat', 'ACLY.inhibitor_DMSO', 'ACLY.inhibitor_DMSO', 'ACSS2.inhibitor_Pracinostat', 'ACLY.inhibitor_DMSO', 'ACLY.inhibitor_Pracinostat', 'ACSS2.inhibitor_Pracinostat', 'ACSS2.inhibitor_Pracinostat', 'PDH.inhibitor_Pracinostat', 'ACLY.inhibitor_DMSO', 'PDH.inhibitor_Pracinostat', 'ACSS2.inhibitor_Pracinostat', 'ACSS2.inhibitor_Pracinostat', 'ACLY.inhibitor_DMSO', 'PDH.inhibitor_Pracinostat', 'ACLY.inhibitor_DMSO', 'ACSS2.inhibitor_Pracinostat', 'ACLY.inhibitor_DMSO', 'ACLY.inhibitor_Pracinostat', 'PDH.inhibitor_Pracinostat', 'ACSS2.inhibitor_Pracinostat', 'ACLY.inhibitor_Pracinostat', 'ACLY.inhibitor_Pracinostat', 'PDH.inhibitor_Pracinostat', 'ACSS2.inhibitor_Pracinostat', 'ACLY.inhibitor_Pracinostat', 'PDH.inhibitor_Pracinostat', 'ACLY.inhibitor_DMSO', 'PDH.inhibitor_Pracinostat', 'ACSS2.inhibitor_Pracinostat', 'PDH.inhibitor_Pracinostat', 'ACSS2.inhibitor_Pracinostat', 'ACLY.inhibitor_Pracinostat', 'ACLY.inhibitor_Pracinostat', 'ACLY.inhibitor_DMSO', 'PDH.inhibitor_Pracinostat', 'ACLY.inhibitor_DMSO', 'ACLY.inhibitor_DMSO', 'ACLY.inhibitor_DMSO', 'ACSS2.inhibitor_Pracinostat', 'ACLY.inhibitor_Pracinostat', 'ACLY.inhibitor_Pracinostat', 'ACLY.inhibitor_DMSO', 'PDH.inhibitor_Pracinostat', 'PDH.inhibitor_Pracinostat', 'ACLY.inhibitor_DMSO', 'ACLY.inhibitor_Pracinostat', 'PDH.inhibitor_Pracinostat', 'ACLY.inhibitor_Pracinostat', 'PDH.inhibitor_Pracinostat', 'ACLY.inhibitor_Pracinostat', 'ACSS2.inhibitor_Pracinostat', 'PDH.inhibitor_Pracinostat', 'ACLY.inhibitor_Pracinostat', 'PDH.inhibitor_Pracinostat', 'ACLY.inhibitor_Pracinostat', 'PDH.inhibitor_Pracinostat', 'ACLY.inhibitor_DMSO', 'ACSS2.inhibitor_Pracinostat', 'ACSS2.inhibitor_Pracinostat', 'ACLY.inhibitor_DMSO', 'ACLY.inhibitor_DMSO', 'ACLY.inhibitor_Pracinostat', 'ACLY.inhibitor_Pracinostat', 'ACLY.inhibitor_DMSO', 'ACSS2.inhibitor_Pracinostat', 'PDH.inhibitor_Pracinostat', 'ACLY.inhibitor_Pracinostat', 'PDH.inhibitor_Pracinostat', 'ACSS2.inhibitor_Pracinostat', 'ACLY.inhibitor_Pracinostat', 'ACLY.inhibitor_Pracinostat', 'ACSS2.inhibitor_Pracinostat', 'ACLY.inhibitor_Pracinostat']\n"
     ]
    }
   ],
   "source": [
    "# export a table \n",
    "cn = 'MCF7'\n",
    "dc = 'DMSO_DMSO'\n",
    "\n",
    "print(cell_line_names_perwell)\n",
    "\n",
    "print(drug_combinations_perwell)"
   ]
  },
  {
   "cell_type": "code",
   "execution_count": null,
   "metadata": {},
   "outputs": [],
   "source": []
  }
 ],
 "metadata": {
  "kernelspec": {
   "display_name": "Python 3",
   "language": "python",
   "name": "python3"
  },
  "language_info": {
   "codemirror_mode": {
    "name": "ipython",
    "version": 3
   },
   "file_extension": ".py",
   "mimetype": "text/x-python",
   "name": "python",
   "nbconvert_exporter": "python",
   "pygments_lexer": "ipython3",
   "version": "3.7.5"
  }
 },
 "nbformat": 4,
 "nbformat_minor": 4
}
